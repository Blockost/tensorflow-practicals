{
 "cells": [
  {
   "cell_type": "markdown",
   "metadata": {},
   "source": [
    "# Linear Regression model in Tensorflow"
   ]
  },
  {
   "cell_type": "code",
   "execution_count": 203,
   "metadata": {},
   "outputs": [
    {
     "name": "stdout",
     "output_type": "stream",
     "text": [
      "1.1.0\n"
     ]
    }
   ],
   "source": [
    "import numpy as np\n",
    "import tensorflow as tf\n",
    "print tf.__version__"
   ]
  },
  {
   "cell_type": "markdown",
   "metadata": {},
   "source": [
    "## Problem"
   ]
  },
  {
   "cell_type": "markdown",
   "metadata": {},
   "source": [
    "- Input: X\n",
    "- Target: Y\n",
    "\n",
    "We would like to find the *best* mapping between X and Y, two list of floats linearly linked by a linear function *f*"
   ]
  },
  {
   "cell_type": "markdown",
   "metadata": {},
   "source": [
    "In other words, we would like to find the best parameters **a** and **b** for the function *f*, *f(X) = ax + b*, that maps our input **X** to our target **Y** the most accurately possible."
   ]
  },
  {
   "cell_type": "markdown",
   "metadata": {},
   "source": [
    "## Data"
   ]
  },
  {
   "cell_type": "code",
   "execution_count": 204,
   "metadata": {
    "collapsed": true
   },
   "outputs": [],
   "source": [
    "def f(x, a, b): return a*x + b"
   ]
  },
  {
   "cell_type": "code",
   "execution_count": 205,
   "metadata": {
    "collapsed": true
   },
   "outputs": [],
   "source": [
    "# true_a and true_b chosen arbitrarily\n",
    "true_a = 2\n",
    "true_b = 3"
   ]
  },
  {
   "cell_type": "markdown",
   "metadata": {},
   "source": [
    "First, let's create our input and output (target)"
   ]
  },
  {
   "cell_type": "code",
   "execution_count": 206,
   "metadata": {},
   "outputs": [
    {
     "name": "stdout",
     "output_type": "stream",
     "text": [
      "(10,) (10,)\n",
      "Inputs: [ 0.29242509  0.95448529  0.32435693  0.06763678  0.2548839   0.69696696\n",
      "  0.34609989  0.64646233  0.43982727  0.89539333]\n",
      "Targets: [ 3.58485018  4.90897057  3.64871386  3.13527356  3.5097678   4.39393391\n",
      "  3.69219978  4.29292466  3.87965455  4.79078666]\n"
     ]
    }
   ],
   "source": [
    "inputs = np.random.random((INPUT_DIM,))\n",
    "targets = f(inputs, true_a, true_b)\n",
    "print inputs.shape, targets.shape\n",
    "print 'Inputs: {}'.format(inputs) \n",
    "print 'Targets: {}'.format(targets)"
   ]
  },
  {
   "cell_type": "code",
   "execution_count": 207,
   "metadata": {},
   "outputs": [
    {
     "data": {
      "text/plain": [
       "<matplotlib.collections.PathCollection at 0x2aaaebe65510>"
      ]
     },
     "execution_count": 207,
     "metadata": {},
     "output_type": "execute_result"
    },
    {
     "data": {
      "image/png": "[encoded data removed]",
      "text/plain": [
       "<matplotlib.figure.Figure at 0x2aacd937ce50>"
      ]
     },
     "metadata": {},
     "output_type": "display_data"
    }
   ],
   "source": [
    "%matplotlib inline\n",
    "from matplotlib import pyplot as plot\n",
    "\n",
    "plot.scatter(inputs,targets)"
   ]
  },
  {
   "cell_type": "markdown",
   "metadata": {},
   "source": [
    "## Model"
   ]
  },
  {
   "cell_type": "markdown",
   "metadata": {},
   "source": [
    "Then, let's initialize our variables a and b"
   ]
  },
  {
   "cell_type": "markdown",
   "metadata": {},
   "source": [
    "In Tensorflow, `Variable`s are the model's hyperparameters we need to tune (or fit) in order to have better predictions. We set them to an arbitrary default value for this simple example."
   ]
  },
  {
   "cell_type": "markdown",
   "metadata": {},
   "source": [
    "Many techniques exist to initialized those variables to a *not so bad* default value. Having a better initial value for parameters reduces training time as the model's predictions will be (hopefully) closer than with a random init. "
   ]
  },
  {
   "cell_type": "code",
   "execution_count": 226,
   "metadata": {},
   "outputs": [],
   "source": [
    "# a and b arbitrarily initialized\n",
    "a = tf.Variable(-1.0, name='coeff_a')\n",
    "b = tf.Variable(1.0, name='coeff_b')"
   ]
  },
  {
   "cell_type": "markdown",
   "metadata": {},
   "source": [
    "`placeholder`s have been designed to feed the network with external data"
   ]
  },
  {
   "cell_type": "markdown",
   "metadata": {},
   "source": [
    "`x` is our inputs and `y` is our targets, i.e our gold-standard floats the model will compare his predictions with  "
   ]
  },
  {
   "cell_type": "code",
   "execution_count": 209,
   "metadata": {},
   "outputs": [],
   "source": [
    "x = tf.placeholder(tf.float32, name='inputs')\n",
    "y = tf.placeholder(tf.float32, name='targets')"
   ]
  },
  {
   "cell_type": "code",
   "execution_count": 229,
   "metadata": {},
   "outputs": [],
   "source": [
    "y_pred = tf.multiply(a, x) + b # Similary, we may simply use y_pred = f(x, a, b) but let's do stuff in Tensorflow :D "
   ]
  },
  {
   "cell_type": "code",
   "execution_count": 228,
   "metadata": {},
   "outputs": [
    {
     "name": "stdout",
     "output_type": "stream",
     "text": [
      "[ 0.7075749   0.0455147   0.67564309  0.93236321  0.74511611  0.30303305\n",
      "  0.65390015  0.35353768  0.56017274  0.10460669]\n"
     ]
    },
    {
     "data": {
      "image/png": "[encoded data removed]",
      "text/plain": [
       "<matplotlib.figure.Figure at 0x2aac57f9bc50>"
      ]
     },
     "metadata": {},
     "output_type": "display_data"
    }
   ],
   "source": [
    "with tf.Session() as sess:\n",
    "    sess.run(tf.global_variables_initializer())\n",
    "    preds = sess.run(y_pred, feed_dict={x: inputs, y: targets})\n",
    "    print(preds)\n",
    "    plot.plot(inputs, preds)\n",
    "    plot.scatter(inputs, targets)"
   ]
  },
  {
   "cell_type": "markdown",
   "metadata": {},
   "source": [
    "The predictions are far away from the real targets. We need to tune **a** and **b** to improve our predictions"
   ]
  },
  {
   "cell_type": "markdown",
   "metadata": {},
   "source": [
    "To tune **a** and **b**, we need something that tells how bad the predictions are from the real values. Thus, we need a *loss function*"
   ]
  },
  {
   "cell_type": "markdown",
   "metadata": {},
   "source": [
    "### Loss function"
   ]
  },
  {
   "cell_type": "markdown",
   "metadata": {},
   "source": [
    "We define our *loss function* as the Mean Squared Error (mse). We may use the built-in `tf.metrics.mean_squared_error()` in Tensorflow but let's try to implement it from scratch "
   ]
  },
  {
   "cell_type": "code",
   "execution_count": 212,
   "metadata": {
    "collapsed": true
   },
   "outputs": [],
   "source": [
    "loss = tf.reduce_mean(tf.square(y_pred - targets))"
   ]
  },
  {
   "cell_type": "markdown",
   "metadata": {},
   "source": [
    "### Optimizer"
   ]
  },
  {
   "cell_type": "markdown",
   "metadata": {},
   "source": [
    "The optimizer is the part of the graph that will minimize the loss by updating the variables accordingly."
   ]
  },
  {
   "cell_type": "markdown",
   "metadata": {},
   "source": [
    "We will use SGD optimizer with the default learning rate (0.1)"
   ]
  },
  {
   "cell_type": "code",
   "execution_count": 219,
   "metadata": {
    "collapsed": true
   },
   "outputs": [],
   "source": [
    "optimizer = tf.train.GradientDescentOptimizer(learning_rate=0.1)"
   ]
  },
  {
   "cell_type": "code",
   "execution_count": 220,
   "metadata": {},
   "outputs": [],
   "source": [
    "# Tells SGD that or objective function is the loss function defined above\n",
    "# It will try to optimize it, i.e make it as low as possible.\n",
    "train = optimizer.minimize(loss)"
   ]
  },
  {
   "cell_type": "markdown",
   "metadata": {},
   "source": [
    "### Train"
   ]
  },
  {
   "cell_type": "markdown",
   "metadata": {},
   "source": [
    "Training consists in looping an arbitrary number of times and calling the *train* operation defined above."
   ]
  },
  {
   "cell_type": "markdown",
   "metadata": {},
   "source": [
    "It will make a prediction, calculate the loss and adjust the variable **a** and **b** accordingly"
   ]
  },
  {
   "cell_type": "code",
   "execution_count": 222,
   "metadata": {},
   "outputs": [
    {
     "name": "stdout",
     "output_type": "stream",
     "text": [
      "1.99999 3.0 4.12683e-12\n"
     ]
    }
   ],
   "source": [
    "with tf.Session() as sess:\n",
    "    sess.run(tf.global_variables_initializer())\n",
    "    preds = None\n",
    "    for _ in range(1000):\n",
    "        preds = sess.run(train, feed_dict={x: inputs, y: targets})\n",
    "    \n",
    "    # At the end of the training, print the new a and b\n",
    "    a_pred, b_pred, final_loss = sess.run([a, b, loss], feed_dict={x: inputs, y: targets})\n",
    "    print a_pred, b_pred, final_loss"
   ]
  },
  {
   "cell_type": "markdown",
   "metadata": {},
   "source": [
    "After 1000 epochs (training time: ~1sec):\n",
    "- a_pred = 1.99 (where true_a = 2)\n",
    "- b_pred = 3.0 (where true_b = 3) "
   ]
  },
  {
   "cell_type": "markdown",
   "metadata": {},
   "source": [
    "## Awesome !"
   ]
  },
  {
   "cell_type": "markdown",
   "metadata": {},
   "source": [
    "**Congratulations**: We've just built a very simple linear regression model"
   ]
  },
  {
   "cell_type": "markdown",
   "metadata": {},
   "source": [
    "It is worth mentionning we could have used the pre-built `tf.contrib.learn.LinearRegressor()` linear regressor that comes along the new high-level API `tf.contrib.learn`"
   ]
  },
  {
   "cell_type": "markdown",
   "metadata": {},
   "source": [
    "/!\\ `tf.contrib.learn` is subject to change !"
   ]
  }
 ],
 "metadata": {
  "kernelspec": {
   "display_name": "Python 2",
   "language": "python",
   "name": "python2"
  },
  "language_info": {
   "codemirror_mode": {
    "name": "ipython",
    "version": 2
   },
   "file_extension": ".py",
   "mimetype": "text/x-python",
   "name": "python",
   "nbconvert_exporter": "python",
   "pygments_lexer": "ipython2",
   "version": "2.7.13"
  }
 },
 "nbformat": 4,
 "nbformat_minor": 2
}
